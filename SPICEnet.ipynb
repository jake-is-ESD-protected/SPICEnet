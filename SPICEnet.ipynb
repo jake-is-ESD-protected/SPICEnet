{
 "cells": [
  {
   "cell_type": "markdown",
   "metadata": {},
   "source": [
    "# SPICEnet: Classification of images of electrical components\n",
    "\n",
    "*Kristóf Kónya, Jakob Tschavoll*"
   ]
  },
  {
   "cell_type": "code",
   "execution_count": null,
   "metadata": {},
   "outputs": [],
   "source": []
  }
 ],
 "metadata": {
  "language_info": {
   "name": "python"
  }
 },
 "nbformat": 4,
 "nbformat_minor": 2
}
